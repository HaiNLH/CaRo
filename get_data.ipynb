{
 "cells": [
  {
   "cell_type": "code",
   "execution_count": null,
   "metadata": {},
   "outputs": [],
   "source": [
    "import pandas as pd\n",
    "import numpy as np\n",
    "import json\n",
    "import torch\n",
    "import torch.nn as nn\n",
    "import torch.nn.functional as F\n",
    "import scipy.sparse as sp"
   ]
  },
  {
   "cell_type": "code",
   "execution_count": null,
   "metadata": {},
   "outputs": [],
   "source": [
    "\n",
    "def pairs2csr(pairs, shape):\n",
    "    indice = np.array(pairs, dtype=np.int32)\n",
    "    values = np.ones(len(pairs), dtype=np.float32)\n",
    "    return sp.csr_matrix(\n",
    "        (values, (indice[:, 0], indice[:, 1])), shape=shape)\n",
    "\n",
    "def list2pairs(file):\n",
    "    pairs = []\n",
    "    with open(file, \"r\", encoding=\"utf-8\") as f:\n",
    "        for line in f:\n",
    "            l = [int(i) for i in line.split(\", \")]\n",
    "            b_id = l[0]\n",
    "            for i_id in l[1:]:\n",
    "                pairs.append([b_id, i_id])\n",
    "    return np.array(pairs)\n",
    "def get_ic(self):\n",
    "    i_c_pairs = list2pairs(os.path.join(self.path, self.name, 'item_cate.txt'))\n",
    "\n",
    "    indice = np.array(i_c_pairs, dtype=np.int32)\n",
    "    values = np.ones(len(i_c_pairs), dtype=np.float32)\n",
    "    i_c_graph = sp.csr_matrix(\n",
    "        (values, (indice[:, 0], indice[:, 1])), shape=(self.num_items, self.num_cates))\n",
    "    print(i_c_pairs)\n",
    "    return i_c_pairs, i_c_graph\n",
    "def init_emb():\n",
    "    cate_feature = nn.Parameter(torch.FloatTensor(72, 64))\n",
    "    return cate_feature\n",
    "def convert_sparse( sparse):\n",
    "    dense_mat = sparse.toarray()\n",
    "    dense_tensor= torch.tensor(dense_mat)\n",
    "    return dense_tensor\n",
    "cate_feature = init_emb()\n",
    "dense_ic = convert_sparse(ic_graph)\n",
    "item_cate_feat = dense_ic @ cate_feature\n",
    "item_cate_feat = (F.normalize(item_cate_feat, dim = -1))\n",
    "print(item_cate_feat.device)"
   ]
  }
 ],
 "metadata": {
  "language_info": {
   "name": "python"
  }
 },
 "nbformat": 4,
 "nbformat_minor": 2
}
