{
 "cells": [
  {
   "cell_type": "code",
   "execution_count": 3,
   "metadata": {},
   "outputs": [],
   "source": [
    "import numpy as np\n",
    "import pandas as pd\n",
    "import scipy.sparse as sp\n",
    "from sklearn.preprocessing import normalize\n",
    "import os\n",
    "from tqdm import tqdm"
   ]
  },
  {
   "cell_type": "code",
   "execution_count": 5,
   "metadata": {},
   "outputs": [],
   "source": [
    "def pairs2csr(pairs, shape):\n",
    "    indice = np.array(pairs, dtype=np.int32)\n",
    "    values = np.ones(len(pairs), dtype=np.float32)\n",
    "    return sp.csr_matrix(\n",
    "        (values, (indice[:, 0], indice[:, 1])), shape=shape)\n",
    "\n",
    "def list2pairs(file):\n",
    "    pairs = []\n",
    "    with open(file, \"r\", encoding=\"utf-8\") as f:\n",
    "        for line in f:\n",
    "            l = [int(i) for i in line.split(\", \")]\n",
    "            b_id = l[0]\n",
    "            for i_id in l[1:]:\n",
    "                pairs.append([b_id, i_id])\n",
    "    return np.array(pairs)\n",
    "def get_stat(path, sep):\n",
    "    with open(path, 'r') as f:\n",
    "        a,b,c,d = f.readline().split(sep)\n",
    "    return int(a), int(b), int(c), int(d)\n",
    "\n",
    "def get_graph(self):\n",
    "\n",
    "    b_i_pairs = list2pairs(os.path.join(self.path, self.name, 'bi_train.txt'))\n",
    "\n",
    "    indice = np.array(b_i_pairs, dtype=np.int32)\n",
    "    values = np.ones(len(b_i_pairs), dtype=np.float32)\n",
    "    b_i_graph = sp.csr_matrix(\n",
    "        (values, (indice[:, 0], indice[:, 1])), shape=(self.num_bundles, self.num_items))\n",
    "    return b_i_pairs, b_i_graph"
   ]
  }
 ],
 "metadata": {
  "kernelspec": {
   "display_name": "Python 3",
   "language": "python",
   "name": "python3"
  },
  "language_info": {
   "codemirror_mode": {
    "name": "ipython",
    "version": 3
   },
   "file_extension": ".py",
   "mimetype": "text/x-python",
   "name": "python",
   "nbconvert_exporter": "python",
   "pygments_lexer": "ipython3",
   "version": "3.12.5"
  }
 },
 "nbformat": 4,
 "nbformat_minor": 2
}
